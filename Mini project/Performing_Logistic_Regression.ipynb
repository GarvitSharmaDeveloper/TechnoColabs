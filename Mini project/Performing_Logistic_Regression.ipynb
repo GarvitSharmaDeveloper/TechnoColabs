{
 "cells": [
  {
   "cell_type": "code",
   "execution_count": 1,
   "metadata": {},
   "outputs": [
    {
     "data": {
      "application/javascript": [
       "IPython.notebook.set_autosave_interval(10000)"
      ]
     },
     "metadata": {},
     "output_type": "display_data"
    },
    {
     "name": "stdout",
     "output_type": "stream",
     "text": [
      "Autosaving every 10 seconds\n"
     ]
    }
   ],
   "source": [
    "%autosave 10"
   ]
  },
  {
   "cell_type": "markdown",
   "metadata": {},
   "source": [
    "**First, create a dataframe of *cleaned_data.csv*. Then, use scikit-learn's `train_test_split` to make a new set of training and testing data. This time, instead of `EDUCATION`, use `LIMIT_BAL`: the account's credit limit.**"
   ]
  },
  {
   "cell_type": "code",
   "execution_count": 7,
   "metadata": {
    "eid": "662ef"
   },
   "outputs": [],
   "source": [
    "import pandas as pd\n",
    "import numpy as np\n",
    "from sklearn.model_selection import train_test_split\n",
    "from sklearn.linear_model import LogisticRegression\n",
    "from sklearn import metrics\n",
    "import matplotlib.pyplot as plt\n",
    "import matplotlib as mpl"
   ]
  },
  {
   "cell_type": "code",
   "execution_count": 8,
   "metadata": {},
   "outputs": [],
   "source": [
    "df = pd.read_csv(\"cleaned_data.csv\")\n",
    "X_limit=df['LIMIT_BAL'].values.reshape(-1,1)\n",
    "X_education=df['EDUCATION'].values.reshape(-1,1)\n",
    "y=df['default payment next month'].values\n",
    "X_train,X_test,y_train,y_test=train_test_split(X_limit,y,test_size=0.2,random_state=24)\n",
    "X_train1,X_test1,y_train1,y_test1=train_test_split(X_education,y,test_size=0.2,random_state=24)"
   ]
  },
  {
   "cell_type": "code",
   "execution_count": 9,
   "metadata": {},
   "outputs": [
    {
     "name": "stdout",
     "output_type": "stream",
     "text": [
      "(21331, 1) (21331,)\n"
     ]
    }
   ],
   "source": [
    "print(X_train.shape,y_train.shape)"
   ]
  },
  {
   "cell_type": "markdown",
   "metadata": {},
   "source": [
    "_________________________________________________________________________\n",
    "**Next, train a logistic regression model using the training data from your split.**\n"
   ]
  },
  {
   "cell_type": "code",
   "execution_count": 10,
   "metadata": {
    "eid": "05e84"
   },
   "outputs": [],
   "source": [
    "model = LogisticRegression(C=0.1, class_weight=None, dual=False, fit_intercept=True, \\\n",
    "                                intercept_scaling=1, max_iter=100, multi_class='warn', n_jobs=None, \\\n",
    "                                penalty='l2', random_state=None, solver='liblinear', tol=0.0001, \\\n",
    "                                verbose=0, warm_start=False)\n",
    "model1 = LogisticRegression(C=0.1, class_weight=None, dual=False, fit_intercept=True, \\\n",
    "                                intercept_scaling=1, max_iter=100, multi_class='warn', n_jobs=None, \\\n",
    "                                penalty='l2', random_state=None, solver='liblinear', tol=0.0001, \\\n",
    "                                verbose=0, warm_start=False)"
   ]
  },
  {
   "cell_type": "code",
   "execution_count": 11,
   "metadata": {},
   "outputs": [
    {
     "data": {
      "text/plain": [
       "LogisticRegression(C=0.1, class_weight=None, dual=False, fit_intercept=True,\n",
       "                   intercept_scaling=1, l1_ratio=None, max_iter=100,\n",
       "                   multi_class='warn', n_jobs=None, penalty='l2',\n",
       "                   random_state=None, solver='liblinear', tol=0.0001, verbose=0,\n",
       "                   warm_start=False)"
      ]
     },
     "execution_count": 11,
     "metadata": {},
     "output_type": "execute_result"
    }
   ],
   "source": [
    "model.fit(X_train, y_train)"
   ]
  },
  {
   "cell_type": "code",
   "execution_count": 12,
   "metadata": {},
   "outputs": [
    {
     "data": {
      "text/plain": [
       "LogisticRegression(C=0.1, class_weight=None, dual=False, fit_intercept=True,\n",
       "                   intercept_scaling=1, l1_ratio=None, max_iter=100,\n",
       "                   multi_class='warn', n_jobs=None, penalty='l2',\n",
       "                   random_state=None, solver='liblinear', tol=0.0001, verbose=0,\n",
       "                   warm_start=False)"
      ]
     },
     "execution_count": 12,
     "metadata": {},
     "output_type": "execute_result"
    }
   ],
   "source": [
    "model1.fit(X_train1,y_train1)"
   ]
  },
  {
   "cell_type": "markdown",
   "metadata": {},
   "source": [
    "_________________________________________________________________________\n",
    "**Then, create the array of predicted probabilities for the testing data.**\n"
   ]
  },
  {
   "cell_type": "code",
   "execution_count": 13,
   "metadata": {
    "eid": "b671b"
   },
   "outputs": [
    {
     "data": {
      "text/plain": [
       "array([0.25173076, 0.415703  , 0.20395547, ..., 0.415703  , 0.17278502,\n",
       "       0.33606566])"
      ]
     },
     "execution_count": 13,
     "metadata": {},
     "output_type": "execute_result"
    }
   ],
   "source": [
    "y_pred_prob=model.predict_proba(X_test)\n",
    "pos_prob=y_pred_prob[:,1]\n",
    "y_pred_prob1=model1.predict_proba(X_test1)\n",
    "pos_prob1=y_pred_prob1[:,1]\n",
    "pos_prob"
   ]
  },
  {
   "cell_type": "markdown",
   "metadata": {},
   "source": [
    "_________________________________________________________________________\n",
    "**Next, calculate the ROC AUC using the predicted probabilities and the true labels of the testing data. Compare this to the ROC AUC from using the `EDUCATION` feature.**\n"
   ]
  },
  {
   "cell_type": "code",
   "execution_count": 14,
   "metadata": {
    "eid": "58476"
   },
   "outputs": [
    {
     "name": "stdout",
     "output_type": "stream",
     "text": [
      "0.6201990844642832 0.5434650477972642\n"
     ]
    }
   ],
   "source": [
    "roc_auc_limit=metrics.roc_auc_score(y_test,pos_prob)\n",
    "roc_auc_education=metrics.roc_auc_score(y_test1,pos_prob1)\n",
    "print(roc_auc_limit,roc_auc_education)"
   ]
  },
  {
   "cell_type": "markdown",
   "metadata": {},
   "source": [
    "_________________________________________________________________________\n",
    "**Now, plot the ROC curve.**\n"
   ]
  },
  {
   "cell_type": "code",
   "execution_count": 15,
   "metadata": {},
   "outputs": [
    {
     "data": {
      "text/plain": [
       "Text(0.5, 1.0, 'ROC CURVE')"
      ]
     },
     "execution_count": 15,
     "metadata": {},
     "output_type": "execute_result"
    },
    {
     "data": {
      "image/png": "[encoded data removed]",
      "text/plain": [
       "<Figure size 504x504 with 1 Axes>"
      ]
     },
     "metadata": {
      "needs_background": "light"
     },
     "output_type": "display_data"
    }
   ],
   "source": [
    "plt.figure(figsize=(7,7))\n",
    "mpl.rcParams['font.size']=10\n",
    "fpr,tpr,thresholds=metrics.roc_curve(y_test,pos_prob)\n",
    "fpr1,tpr1,thresholds1=metrics.roc_curve(y_test,pos_prob1)\n",
    "plt.plot(fpr,tpr,'*-')\n",
    "plt.plot([0,1],[0,1],'r--')\n",
    "plt.plot(fpr1,tpr1,'*-')\n",
    "plt.plot([0,1],[0,1],'r--')\n",
    "plt.legend(['Logistics Regression_Limit','Random Chance','Logistic Regression_education'])\n",
    "plt.xlabel('FPR')\n",
    "plt.ylabel('TPR')\n",
    "plt.title('ROC CURVE')"
   ]
  },
  {
   "cell_type": "markdown",
   "metadata": {},
   "source": [
    "_________________________________________________________________________\n",
    "**Then, calculate the data for the precision-recall curve on the testing data using scikit-learn functionality.**\n"
   ]
  },
  {
   "cell_type": "code",
   "execution_count": 16,
   "metadata": {
    "eid": "73fdb"
   },
   "outputs": [],
   "source": [
    "precision,recall,_=metrics.precision_recall_curve(y_test,pos_prob)"
   ]
  },
  {
   "cell_type": "code",
   "execution_count": 17,
   "metadata": {},
   "outputs": [
    {
     "data": {
      "text/plain": [
       "array([0.21661665, 0.21651032, 0.21663225, 0.21667293, 0.21671362,\n",
       "       0.21687653, 0.21695807, 0.21712135, 0.21724398, 0.21728488,\n",
       "       0.2173258 , 0.21715363, 0.21719457, 0.21704695, 0.21716981,\n",
       "       0.21725179, 0.22033243, 0.22073643, 0.22129396, 0.22189753,\n",
       "       0.22198318, 0.22200354, 0.22244133, 0.22283792, 0.22392516,\n",
       "       0.22441652, 0.22553363, 0.22670997, 0.22714286, 0.22761729,\n",
       "       0.22985832, 0.2305063 , 0.23116659, 0.231755  , 0.23327465,\n",
       "       0.23466667, 0.23569638, 0.23654424, 0.23784926, 0.23956357,\n",
       "       0.24237288, 0.24342913, 0.24518744, 0.24855794, 0.25020134,\n",
       "       0.25417595, 0.25845411, 0.26031164, 0.26293661, 0.26655574,\n",
       "       0.27004512, 0.27573253, 0.27804107, 0.28183716, 0.28231142,\n",
       "       0.28683603, 0.28744327, 0.29115934, 0.30654206, 0.31032172,\n",
       "       0.31477357, 0.36617843, 0.36338028, 0.37470726, 0.42857143,\n",
       "       1.        ])"
      ]
     },
     "execution_count": 17,
     "metadata": {},
     "output_type": "execute_result"
    }
   ],
   "source": [
    "precision"
   ]
  },
  {
   "cell_type": "code",
   "execution_count": 18,
   "metadata": {},
   "outputs": [
    {
     "data": {
      "text/plain": [
       "array([1.        , 0.9991342 , 0.9991342 , 0.9991342 , 0.9991342 ,\n",
       "       0.9991342 , 0.9991342 , 0.9991342 , 0.9991342 , 0.9991342 ,\n",
       "       0.9991342 , 0.9974026 , 0.9974026 , 0.9965368 , 0.9965368 ,\n",
       "       0.9965368 , 0.98701299, 0.98614719, 0.98614719, 0.98614719,\n",
       "       0.98268398, 0.97662338, 0.97662338, 0.97489177, 0.97402597,\n",
       "       0.97402597, 0.96969697, 0.96709957, 0.96363636, 0.96190476,\n",
       "       0.94112554, 0.93419913, 0.92987013, 0.92380952, 0.91774892,\n",
       "       0.91428571, 0.8952381 , 0.88658009, 0.87705628, 0.87445887,\n",
       "       0.86666667, 0.85800866, 0.83809524, 0.82077922, 0.80692641,\n",
       "       0.79047619, 0.74112554, 0.73766234, 0.7038961 , 0.69350649,\n",
       "       0.67359307, 0.63549784, 0.60952381, 0.58441558, 0.55411255,\n",
       "       0.53766234, 0.49350649, 0.47619048, 0.42597403, 0.4008658 ,\n",
       "       0.36709957, 0.23809524, 0.22337662, 0.13852814, 0.03376623,\n",
       "       0.        ])"
      ]
     },
     "execution_count": 18,
     "metadata": {},
     "output_type": "execute_result"
    }
   ],
   "source": [
    "recall"
   ]
  },
  {
   "cell_type": "markdown",
   "metadata": {},
   "source": [
    "_________________________________________________________________________\n",
    "**Plot the precision-recall curve using matplotlib.**\n"
   ]
  },
  {
   "cell_type": "code",
   "execution_count": 19,
   "metadata": {
    "ein": "5119c"
   },
   "outputs": [
    {
     "data": {
      "text/plain": [
       "Text(0.5, 1.0, 'Precision Curve')"
      ]
     },
     "execution_count": 19,
     "metadata": {},
     "output_type": "execute_result"
    },
    {
     "data": {
      "image/png": "[encoded data removed]",
      "text/plain": [
       "<Figure size 504x504 with 1 Axes>"
      ]
     },
     "metadata": {
      "needs_background": "light"
     },
     "output_type": "display_data"
    }
   ],
   "source": [
    "plt.figure(figsize=(7,7))\n",
    "mpl.rcParams['font.size']=10\n",
    "plt.plot(precision,recall,'*-')\n",
    "plt.xlabel('Recall')\n",
    "plt.ylabel('Precision')\n",
    "plt.title('Precision Curve')"
   ]
  },
  {
   "cell_type": "markdown",
   "metadata": {},
   "source": [
    "_________________________________________________________________________\n",
    "**Now, use scikit-learn to calculate the area under the precision-recall curve.**\n"
   ]
  },
  {
   "cell_type": "code",
   "execution_count": 21,
   "metadata": {
    "eid": "34e7d"
   },
   "outputs": [
    {
     "data": {
      "text/plain": [
       "0.31566964427378624"
      ]
     },
     "execution_count": 21,
     "metadata": {},
     "output_type": "execute_result"
    }
   ],
   "source": [
    "from sklearn.metrics import auc\n",
    "auc(recall,precision)"
   ]
  },
  {
   "cell_type": "markdown",
   "metadata": {},
   "source": [
    "_________________________________________________________________________\n",
    "**Finally, recalculate the ROC AUC, except this time do it for the training data.**"
   ]
  },
  {
   "cell_type": "code",
   "execution_count": 22,
   "metadata": {
    "eid": "d61c3"
   },
   "outputs": [
    {
     "data": {
      "text/plain": [
       "array([[0.69361022, 0.30638978],\n",
       "       [0.78476701, 0.21523299],\n",
       "       [0.94581702, 0.05418298],\n",
       "       ...,\n",
       "       [0.55088894, 0.44911106],\n",
       "       [0.73522868, 0.26477132],\n",
       "       [0.92064596, 0.07935404]])"
      ]
     },
     "execution_count": 22,
     "metadata": {},
     "output_type": "execute_result"
    }
   ],
   "source": [
    "pred_prob_train=model.predict_proba(X_train)\n",
    "pred_prob_train"
   ]
  },
  {
   "cell_type": "code",
   "execution_count": 23,
   "metadata": {},
   "outputs": [
    {
     "name": "stdout",
     "output_type": "stream",
     "text": [
      "Roc Value For Training Data is 0.6182918113358344\n"
     ]
    },
    {
     "data": {
      "text/plain": [
       "Text(0.5, 1.0, 'ROC curve for TRAIN DATA and TEST DATA')"
      ]
     },
     "execution_count": 23,
     "metadata": {},
     "output_type": "execute_result"
    },
    {
     "data": {
      "image/png": "[encoded data removed]",
      "text/plain": [
       "<Figure size 504x504 with 1 Axes>"
      ]
     },
     "metadata": {
      "needs_background": "light"
     },
     "output_type": "display_data"
    }
   ],
   "source": [
    "pos_prob_train=pred_prob_train[:,1]\n",
    "roc_auc_train=metrics.roc_auc_score(y_train,pos_prob_train)\n",
    "print(\"Roc Value For Training Data is {}\".format(roc_auc_train))\n",
    "plt.figure(figsize=(7,7))\n",
    "mpl.rcParams['font.size']=12\n",
    "fpr_train,tpr_train,threshold_train=metrics.roc_curve(y_train,pos_prob_train)\n",
    "plt.plot(fpr,tpr,'*-')\n",
    "plt.plot(fpr_train,tpr_train,'*-')\n",
    "plt.plot([0,1],[0,1],'r--')\n",
    "plt.legend(['Logistic_Regression_for_test','Logistic_Regression_for_train','random_curve'])\n",
    "plt.xlabel('FPR')\n",
    "plt.ylabel('TPR')\n",
    "plt.title('ROC curve for TRAIN DATA and TEST DATA')"
   ]
  },
  {
   "cell_type": "markdown",
   "metadata": {},
   "source": [
    "    How is this different, conceptually and quantitatively, from your earlier calculation?\n"
   ]
  },
  {
   "cell_type": "markdown",
   "metadata": {},
   "source": [
    "According to graph, the ROC value of TRAINING DATA is slightly less that the ROC value TESTING DATA."
   ]
  },
  {
   "cell_type": "code",
   "execution_count": null,
   "metadata": {},
   "outputs": [],
   "source": []
  },
  {
   "cell_type": "code",
   "execution_count": null,
   "metadata": {},
   "outputs": [],
   "source": []
  }
 ],
 "metadata": {
  "kernelspec": {
   "display_name": "Python 3",
   "language": "python",
   "name": "python3"
  },
  "language_info": {
   "codemirror_mode": {
    "name": "ipython",
    "version": 3
   },
   "file_extension": ".py",
   "mimetype": "text/x-python",
   "name": "python",
   "nbconvert_exporter": "python",
   "pygments_lexer": "ipython3",
   "version": "3.7.0"
  }
 },
 "nbformat": 4,
 "nbformat_minor": 2
}
